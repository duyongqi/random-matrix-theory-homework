{
  "nbformat": 4,
  "nbformat_minor": 0,
  "metadata": {
    "colab": {
      "name": "Untitled15.ipynb",
      "provenance": [],
      "collapsed_sections": []
    },
    "kernelspec": {
      "name": "python3",
      "display_name": "Python 3"
    },
    "language_info": {
      "name": "python"
    }
  },
  "cells": [
    {
      "cell_type": "markdown",
      "source": [
        "# Designing the Nonlinearities to Preserve the Spectrum of the Data Covariance Matrix"
      ],
      "metadata": {
        "id": "MEQH6RSj07_n"
      }
    },
    {
      "cell_type": "code",
      "source": [
        "import numpy as np\n",
        "import matplotlib.pyplot as plt\n",
        "import math\n",
        "pi = np.pi"
      ],
      "metadata": {
        "id": "9nbxKlEllqoT"
      },
      "execution_count": 110,
      "outputs": []
    },
    {
      "cell_type": "code",
      "source": [
        "def relu(x):\n",
        "  return np.maximum(x, 0)"
      ],
      "metadata": {
        "id": "wq5op8cXmOEF"
      },
      "execution_count": 111,
      "outputs": []
    },
    {
      "cell_type": "code",
      "execution_count": 112,
      "metadata": {
        "id": "YEDX-gRdg6Yu"
      },
      "outputs": [],
      "source": [
        "def activation_define(alpha):\n",
        "  return lambda x: (relu(x) + alpha*relu(-x) - (1+alpha)/np.sqrt(2*pi))/np.sqrt(0.5*(1+alpha**2) - 1/(2*pi)*(1+alpha)**2)\n",
        "   "
      ]
    },
    {
      "cell_type": "code",
      "source": [
        "alpha_1 = -1\n",
        "alpha_2 = 0\n",
        "alpha_3 = 1\n",
        "activation_1 = activation_define(alpha_1)\n",
        "activation_2 = activation_define(alpha_2)\n",
        "activation_3 = activation_define(alpha_3)"
      ],
      "metadata": {
        "id": "eq67XIggnH_c"
      },
      "execution_count": 113,
      "outputs": []
    },
    {
      "cell_type": "markdown",
      "source": [
        "plot activations"
      ],
      "metadata": {
        "id": "c4cVYN1tn1xE"
      }
    },
    {
      "cell_type": "code",
      "source": [
        "activation_1(np.array(3))"
      ],
      "metadata": {
        "colab": {
          "base_uri": "https://localhost:8080/"
        },
        "id": "KfkikjYapiVE",
        "outputId": "b27b2bc2-51aa-485e-c137-da4d9810da6e"
      },
      "execution_count": 39,
      "outputs": [
        {
          "output_type": "execute_result",
          "data": {
            "text/plain": [
              "3.6335216887089503"
            ]
          },
          "metadata": {},
          "execution_count": 39
        }
      ]
    },
    {
      "cell_type": "code",
      "source": [
        "x = np.linspace(-3, 3, 100)\n",
        "\n",
        "plt.plot(x,activation_1(x),'g',label=r'$\\alpha=-1$')\n",
        "plt.plot(x,activation_2(x),'b',label=r'$\\alpha=0$')\n",
        "plt.plot(x,activation_3(x),'r',label=r'$\\alpha=1$')\n",
        "plt.xlabel(r'x')\n",
        "plt.ylabel(r'$f_{\\alpha}(x)$')\n",
        "plt.title(r'Activation functions $f_{\\alpha}(x)$ for different $\\alpha$')\n",
        "plt.grid()\n",
        "plt.legend()"
      ],
      "metadata": {
        "colab": {
          "base_uri": "https://localhost:8080/",
          "height": 315
        },
        "id": "uhN4-e-1nUMG",
        "outputId": "87d54217-80f2-4d57-88c0-66c3401ef0c7"
      },
      "execution_count": 42,
      "outputs": [
        {
          "output_type": "execute_result",
          "data": {
            "text/plain": [
              "<matplotlib.legend.Legend at 0x7f2764545c10>"
            ]
          },
          "metadata": {},
          "execution_count": 42
        },
        {
          "output_type": "display_data",
          "data": {
            "text/plain": [
              "<Figure size 432x288 with 1 Axes>"
            ],
            "image/png": "[encoded data removed]"
          },
          "metadata": {
            "needs_background": "light"
          }
        }
      ]
    },
    {
      "cell_type": "markdown",
      "source": [
        "# neural network"
      ],
      "metadata": {
        "id": "tkkNW84mrihG"
      }
    },
    {
      "cell_type": "markdown",
      "source": [
        "## 1层网络"
      ],
      "metadata": {
        "id": "In63CxvC6Ntz"
      }
    },
    {
      "cell_type": "code",
      "source": [
        "n0 = 1000\n",
        "m = 1000\n",
        "n1 = 1000\n",
        "\n",
        "X = np.random.randn(n0, m)\n",
        "SCM_X = 1/m * (X @ X.T)"
      ],
      "metadata": {
        "id": "UrsOjemLrlAI"
      },
      "execution_count": 107,
      "outputs": []
    },
    {
      "cell_type": "markdown",
      "source": [
        "$\\alpha=-1$"
      ],
      "metadata": {
        "id": "e-sT8pHgt6TM"
      }
    },
    {
      "cell_type": "code",
      "source": [
        "Y = X\n",
        "for i in range(1):\n",
        "  W = np.random.randn(n1, n0)/np.sqrt(n0)\n",
        "  Y = activation_1(W @ Y)\n",
        "SCM_Y = 1/m * (Y @ Y.T)  \n",
        "\n",
        "eigs_X = np.linalg.eig(SCM_X)[0]\n",
        "eigs_Y = np.linalg.eig(SCM_Y)[0]\n",
        "\n",
        "edges_X = np.linspace(np.min(eigs_X)-.1,np.max(eigs_X)+.2,60)\n",
        "edges_Y = np.linspace(np.min(eigs_Y)-.1,np.max(eigs_Y)+.2,60)\n"
      ],
      "metadata": {
        "id": "SZn512-zuWFX"
      },
      "execution_count": 44,
      "outputs": []
    },
    {
      "cell_type": "code",
      "source": [
        "edges_X"
      ],
      "metadata": {
        "colab": {
          "base_uri": "https://localhost:8080/"
        },
        "id": "6rPtRdq8x4pA",
        "outputId": "475f2bf3-351b-4a90-f7e3-6a769e8782ab"
      },
      "execution_count": 45,
      "outputs": [
        {
          "output_type": "execute_result",
          "data": {
            "text/plain": [
              "array([-0.09999995, -0.02779334,  0.04441326,  0.11661987,  0.18882647,\n",
              "        0.26103308,  0.33323968,  0.40544628,  0.47765289,  0.54985949,\n",
              "        0.6220661 ,  0.6942727 ,  0.76647931,  0.83868591,  0.91089252,\n",
              "        0.98309912,  1.05530573,  1.12751233,  1.19971893,  1.27192554,\n",
              "        1.34413214,  1.41633875,  1.48854535,  1.56075196,  1.63295856,\n",
              "        1.70516517,  1.77737177,  1.84957837,  1.92178498,  1.99399158,\n",
              "        2.06619819,  2.13840479,  2.2106114 ,  2.282818  ,  2.35502461,\n",
              "        2.42723121,  2.49943782,  2.57164442,  2.64385102,  2.71605763,\n",
              "        2.78826423,  2.86047084,  2.93267744,  3.00488405,  3.07709065,\n",
              "        3.14929726,  3.22150386,  3.29371046,  3.36591707,  3.43812367,\n",
              "        3.51033028,  3.58253688,  3.65474349,  3.72695009,  3.7991567 ,\n",
              "        3.8713633 ,  3.94356991,  4.01577651,  4.08798311,  4.16018972])"
            ]
          },
          "metadata": {},
          "execution_count": 45
        }
      ]
    },
    {
      "cell_type": "code",
      "source": [
        "edges_Y"
      ],
      "metadata": {
        "colab": {
          "base_uri": "https://localhost:8080/"
        },
        "id": "XTuu53wOx6QZ",
        "outputId": "44396169-8f93-4a4b-86e5-d24b3e612c2b"
      },
      "execution_count": 46,
      "outputs": [
        {
          "output_type": "execute_result",
          "data": {
            "text/plain": [
              "array([-0.1       ,  0.01551923,  0.13103845,  0.24655768,  0.36207691,\n",
              "        0.47759614,  0.59311536,  0.70863459,  0.82415382,  0.93967305,\n",
              "        1.05519227,  1.1707115 ,  1.28623073,  1.40174996,  1.51726918,\n",
              "        1.63278841,  1.74830764,  1.86382686,  1.97934609,  2.09486532,\n",
              "        2.21038455,  2.32590377,  2.441423  ,  2.55694223,  2.67246146,\n",
              "        2.78798068,  2.90349991,  3.01901914,  3.13453837,  3.25005759,\n",
              "        3.36557682,  3.48109605,  3.59661528,  3.7121345 ,  3.82765373,\n",
              "        3.94317296,  4.05869218,  4.17421141,  4.28973064,  4.40524987,\n",
              "        4.52076909,  4.63628832,  4.75180755,  4.86732678,  4.982846  ,\n",
              "        5.09836523,  5.21388446,  5.32940369,  5.44492291,  5.56044214,\n",
              "        5.67596137,  5.79148059,  5.90699982,  6.02251905,  6.13803828,\n",
              "        6.2535575 ,  6.36907673,  6.48459596,  6.60011519,  6.71563441])"
            ]
          },
          "metadata": {},
          "execution_count": 46
        }
      ]
    },
    {
      "cell_type": "code",
      "source": [
        "plt.hist(eigs_X,bins=edges_X,label='Empirical eigenvalues of $1/mXX^T$')"
      ],
      "metadata": {
        "colab": {
          "base_uri": "https://localhost:8080/",
          "height": 611
        },
        "id": "W6Mm_dFcv148",
        "outputId": "b0b9ba92-7e12-4c93-fec5-315a4404c15d"
      },
      "execution_count": 47,
      "outputs": [
        {
          "output_type": "execute_result",
          "data": {
            "text/plain": [
              "(array([  0., 134.,  84.,  57.,  49.,  39.,  36.,  34.,  29.,  29.,  25.,\n",
              "         24.,  23.,  22.,  21.,  19.,  20.,  16.,  18.,  17.,  15.,  14.,\n",
              "         14.,  16.,  13.,  15.,  12.,  12.,  12.,  10.,  11.,  12.,   8.,\n",
              "         12.,   8.,   9.,   9.,   8.,   7.,   8.,   8.,   7.,   6.,   6.,\n",
              "          7.,   6.,   6.,   5.,   4.,   4.,   5.,   3.,   4.,   2.,   3.,\n",
              "          2.,   1.,   0.,   0.]),\n",
              " array([-0.09999995, -0.02779334,  0.04441326,  0.11661987,  0.18882647,\n",
              "         0.26103308,  0.33323968,  0.40544628,  0.47765289,  0.54985949,\n",
              "         0.6220661 ,  0.6942727 ,  0.76647931,  0.83868591,  0.91089252,\n",
              "         0.98309912,  1.05530573,  1.12751233,  1.19971893,  1.27192554,\n",
              "         1.34413214,  1.41633875,  1.48854535,  1.56075196,  1.63295856,\n",
              "         1.70516517,  1.77737177,  1.84957837,  1.92178498,  1.99399158,\n",
              "         2.06619819,  2.13840479,  2.2106114 ,  2.282818  ,  2.35502461,\n",
              "         2.42723121,  2.49943782,  2.57164442,  2.64385102,  2.71605763,\n",
              "         2.78826423,  2.86047084,  2.93267744,  3.00488405,  3.07709065,\n",
              "         3.14929726,  3.22150386,  3.29371046,  3.36591707,  3.43812367,\n",
              "         3.51033028,  3.58253688,  3.65474349,  3.72695009,  3.7991567 ,\n",
              "         3.8713633 ,  3.94356991,  4.01577651,  4.08798311,  4.16018972]),\n",
              " <a list of 59 Patch objects>)"
            ]
          },
          "metadata": {},
          "execution_count": 47
        },
        {
          "output_type": "display_data",
          "data": {
            "text/plain": [
              "<Figure size 432x288 with 1 Axes>"
            ],
            "image/png": "[encoded data removed]"
          },
          "metadata": {
            "needs_background": "light"
          }
        }
      ]
    },
    {
      "cell_type": "code",
      "source": [
        "plt.hist(eigs_Y,bins=edges_Y,label='Empirical eigenvalues of $1/mYY^T$')"
      ],
      "metadata": {
        "colab": {
          "base_uri": "https://localhost:8080/",
          "height": 607
        },
        "id": "XMJSMwTpv_4u",
        "outputId": "7108e8b4-edec-4de8-c375-3317fe0a3709"
      },
      "execution_count": 48,
      "outputs": [
        {
          "output_type": "execute_result",
          "data": {
            "text/plain": [
              "(array([199., 186.,  81.,  54.,  42.,  36.,  30.,  27.,  21.,  21.,  18.,\n",
              "         19.,  16.,  15.,  12.,  13.,  12.,  12.,   9.,  10.,  10.,  10.,\n",
              "          8.,   8.,   6.,   9.,   7.,   6.,   6.,   7.,   5.,   6.,   5.,\n",
              "          5.,   5.,   5.,   4.,   5.,   3.,   4.,   5.,   2.,   4.,   4.,\n",
              "          3.,   3.,   2.,   3.,   1.,   3.,   3.,   2.,   1.,   2.,   2.,\n",
              "          0.,   2.,   1.,   0.]),\n",
              " array([-0.1       ,  0.01551923,  0.13103845,  0.24655768,  0.36207691,\n",
              "         0.47759614,  0.59311536,  0.70863459,  0.82415382,  0.93967305,\n",
              "         1.05519227,  1.1707115 ,  1.28623073,  1.40174996,  1.51726918,\n",
              "         1.63278841,  1.74830764,  1.86382686,  1.97934609,  2.09486532,\n",
              "         2.21038455,  2.32590377,  2.441423  ,  2.55694223,  2.67246146,\n",
              "         2.78798068,  2.90349991,  3.01901914,  3.13453837,  3.25005759,\n",
              "         3.36557682,  3.48109605,  3.59661528,  3.7121345 ,  3.82765373,\n",
              "         3.94317296,  4.05869218,  4.17421141,  4.28973064,  4.40524987,\n",
              "         4.52076909,  4.63628832,  4.75180755,  4.86732678,  4.982846  ,\n",
              "         5.09836523,  5.21388446,  5.32940369,  5.44492291,  5.56044214,\n",
              "         5.67596137,  5.79148059,  5.90699982,  6.02251905,  6.13803828,\n",
              "         6.2535575 ,  6.36907673,  6.48459596,  6.60011519,  6.71563441]),\n",
              " <a list of 59 Patch objects>)"
            ]
          },
          "metadata": {},
          "execution_count": 48
        },
        {
          "output_type": "display_data",
          "data": {
            "text/plain": [
              "<Figure size 432x288 with 1 Axes>"
            ],
            "image/png": "[encoded data removed]"
          },
          "metadata": {
            "needs_background": "light"
          }
        }
      ]
    },
    {
      "cell_type": "markdown",
      "source": [
        "$\\alpha=0$"
      ],
      "metadata": {
        "id": "GJbWxZShuAv_"
      }
    },
    {
      "cell_type": "code",
      "source": [
        "Y = X\n",
        "for i in range(1):\n",
        "  W = np.random.randn(n1, n0)/np.sqrt(n0)\n",
        "  Y = activation_2(W @ Y)\n",
        "SCM_Y = 1/m * (Y @ Y.T)  \n",
        "\n",
        "eigs_X = np.linalg.eig(SCM_X)[0]\n",
        "eigs_Y = np.linalg.eig(SCM_Y)[0]\n",
        "\n",
        "edges_X = np.linspace(np.min(eigs_X)-.1,np.max(eigs_X)+.2,60)\n",
        "edges_Y = np.linspace(np.min(eigs_Y)-.1,np.max(eigs_Y)+.2,60)\n"
      ],
      "metadata": {
        "id": "wLY7uJbkuj71"
      },
      "execution_count": 49,
      "outputs": []
    },
    {
      "cell_type": "code",
      "source": [
        "edges_X"
      ],
      "metadata": {
        "colab": {
          "base_uri": "https://localhost:8080/"
        },
        "id": "mq5KRLUyzQSu",
        "outputId": "97066096-4dfe-4c37-b1cd-2347f165ba9e"
      },
      "execution_count": 50,
      "outputs": [
        {
          "output_type": "execute_result",
          "data": {
            "text/plain": [
              "array([-0.09999995, -0.02779334,  0.04441326,  0.11661987,  0.18882647,\n",
              "        0.26103308,  0.33323968,  0.40544628,  0.47765289,  0.54985949,\n",
              "        0.6220661 ,  0.6942727 ,  0.76647931,  0.83868591,  0.91089252,\n",
              "        0.98309912,  1.05530573,  1.12751233,  1.19971893,  1.27192554,\n",
              "        1.34413214,  1.41633875,  1.48854535,  1.56075196,  1.63295856,\n",
              "        1.70516517,  1.77737177,  1.84957837,  1.92178498,  1.99399158,\n",
              "        2.06619819,  2.13840479,  2.2106114 ,  2.282818  ,  2.35502461,\n",
              "        2.42723121,  2.49943782,  2.57164442,  2.64385102,  2.71605763,\n",
              "        2.78826423,  2.86047084,  2.93267744,  3.00488405,  3.07709065,\n",
              "        3.14929726,  3.22150386,  3.29371046,  3.36591707,  3.43812367,\n",
              "        3.51033028,  3.58253688,  3.65474349,  3.72695009,  3.7991567 ,\n",
              "        3.8713633 ,  3.94356991,  4.01577651,  4.08798311,  4.16018972])"
            ]
          },
          "metadata": {},
          "execution_count": 50
        }
      ]
    },
    {
      "cell_type": "code",
      "source": [
        "edges_Y"
      ],
      "metadata": {
        "colab": {
          "base_uri": "https://localhost:8080/"
        },
        "id": "6zmn1fwrzUaR",
        "outputId": "65293e19-dcf8-4d94-bf57-4a36d634f0f6"
      },
      "execution_count": 51,
      "outputs": [
        {
          "output_type": "execute_result",
          "data": {
            "text/plain": [
              "array([-9.99998344e-02, -6.85846245e-05,  9.98626652e-02,  1.99793915e-01,\n",
              "        2.99725165e-01,  3.99656415e-01,  4.99587664e-01,  5.99518914e-01,\n",
              "        6.99450164e-01,  7.99381414e-01,  8.99312664e-01,  9.99243913e-01,\n",
              "        1.09917516e+00,  1.19910641e+00,  1.29903766e+00,  1.39896891e+00,\n",
              "        1.49890016e+00,  1.59883141e+00,  1.69876266e+00,  1.79869391e+00,\n",
              "        1.89862516e+00,  1.99855641e+00,  2.09848766e+00,  2.19841891e+00,\n",
              "        2.29835016e+00,  2.39828141e+00,  2.49821266e+00,  2.59814391e+00,\n",
              "        2.69807516e+00,  2.79800641e+00,  2.89793766e+00,  2.99786891e+00,\n",
              "        3.09780016e+00,  3.19773141e+00,  3.29766266e+00,  3.39759391e+00,\n",
              "        3.49752516e+00,  3.59745641e+00,  3.69738766e+00,  3.79731891e+00,\n",
              "        3.89725016e+00,  3.99718141e+00,  4.09711266e+00,  4.19704391e+00,\n",
              "        4.29697516e+00,  4.39690641e+00,  4.49683766e+00,  4.59676891e+00,\n",
              "        4.69670016e+00,  4.79663141e+00,  4.89656266e+00,  4.99649391e+00,\n",
              "        5.09642516e+00,  5.19635640e+00,  5.29628765e+00,  5.39621890e+00,\n",
              "        5.49615015e+00,  5.59608140e+00,  5.69601265e+00,  5.79594390e+00])"
            ]
          },
          "metadata": {},
          "execution_count": 51
        }
      ]
    },
    {
      "cell_type": "code",
      "source": [
        "plt.hist(eigs_X,bins=edges_X,label='Empirical eigenvalues of $1/mXX^T$')"
      ],
      "metadata": {
        "colab": {
          "base_uri": "https://localhost:8080/",
          "height": 611
        },
        "id": "WdLx5YqxwRIg",
        "outputId": "742e001f-491f-416f-d41d-3457effc514c"
      },
      "execution_count": 52,
      "outputs": [
        {
          "output_type": "execute_result",
          "data": {
            "text/plain": [
              "(array([  0., 134.,  84.,  57.,  49.,  39.,  36.,  34.,  29.,  29.,  25.,\n",
              "         24.,  23.,  22.,  21.,  19.,  20.,  16.,  18.,  17.,  15.,  14.,\n",
              "         14.,  16.,  13.,  15.,  12.,  12.,  12.,  10.,  11.,  12.,   8.,\n",
              "         12.,   8.,   9.,   9.,   8.,   7.,   8.,   8.,   7.,   6.,   6.,\n",
              "          7.,   6.,   6.,   5.,   4.,   4.,   5.,   3.,   4.,   2.,   3.,\n",
              "          2.,   1.,   0.,   0.]),\n",
              " array([-0.09999995, -0.02779334,  0.04441326,  0.11661987,  0.18882647,\n",
              "         0.26103308,  0.33323968,  0.40544628,  0.47765289,  0.54985949,\n",
              "         0.6220661 ,  0.6942727 ,  0.76647931,  0.83868591,  0.91089252,\n",
              "         0.98309912,  1.05530573,  1.12751233,  1.19971893,  1.27192554,\n",
              "         1.34413214,  1.41633875,  1.48854535,  1.56075196,  1.63295856,\n",
              "         1.70516517,  1.77737177,  1.84957837,  1.92178498,  1.99399158,\n",
              "         2.06619819,  2.13840479,  2.2106114 ,  2.282818  ,  2.35502461,\n",
              "         2.42723121,  2.49943782,  2.57164442,  2.64385102,  2.71605763,\n",
              "         2.78826423,  2.86047084,  2.93267744,  3.00488405,  3.07709065,\n",
              "         3.14929726,  3.22150386,  3.29371046,  3.36591707,  3.43812367,\n",
              "         3.51033028,  3.58253688,  3.65474349,  3.72695009,  3.7991567 ,\n",
              "         3.8713633 ,  3.94356991,  4.01577651,  4.08798311,  4.16018972]),\n",
              " <a list of 59 Patch objects>)"
            ]
          },
          "metadata": {},
          "execution_count": 52
        },
        {
          "output_type": "display_data",
          "data": {
            "text/plain": [
              "<Figure size 432x288 with 1 Axes>"
            ],
            "image/png": "[encoded data removed]"
          },
          "metadata": {
            "needs_background": "light"
          }
        }
      ]
    },
    {
      "cell_type": "code",
      "source": [
        "plt.hist(eigs_Y,bins=edges_Y,label='Empirical eigenvalues of $1/mYY^T$')"
      ],
      "metadata": {
        "colab": {
          "base_uri": "https://localhost:8080/",
          "height": 661
        },
        "id": "D_BTSujhwTgx",
        "outputId": "fbb769f5-823d-4f59-8b18-1e8acaf88a28"
      },
      "execution_count": 53,
      "outputs": [
        {
          "output_type": "execute_result",
          "data": {
            "text/plain": [
              "(array([  0., 253.,  98.,  69.,  54.,  44.,  37.,  32.,  29.,  27.,  22.,\n",
              "         22.,  19.,  17.,  17.,  15.,  14.,  14.,  12.,  12.,  13.,   9.,\n",
              "         10.,  10.,   9.,  10.,   8.,   7.,   8.,   6.,   7.,   7.,   6.,\n",
              "          6.,   6.,   5.,   5.,   6.,   4.,   5.,   3.,   4.,   4.,   5.,\n",
              "          2.,   3.,   4.,   2.,   3.,   2.,   3.,   2.,   2.,   2.,   2.,\n",
              "          0.,   3.,   0.,   0.]),\n",
              " array([-9.99998344e-02, -6.85846245e-05,  9.98626652e-02,  1.99793915e-01,\n",
              "         2.99725165e-01,  3.99656415e-01,  4.99587664e-01,  5.99518914e-01,\n",
              "         6.99450164e-01,  7.99381414e-01,  8.99312664e-01,  9.99243913e-01,\n",
              "         1.09917516e+00,  1.19910641e+00,  1.29903766e+00,  1.39896891e+00,\n",
              "         1.49890016e+00,  1.59883141e+00,  1.69876266e+00,  1.79869391e+00,\n",
              "         1.89862516e+00,  1.99855641e+00,  2.09848766e+00,  2.19841891e+00,\n",
              "         2.29835016e+00,  2.39828141e+00,  2.49821266e+00,  2.59814391e+00,\n",
              "         2.69807516e+00,  2.79800641e+00,  2.89793766e+00,  2.99786891e+00,\n",
              "         3.09780016e+00,  3.19773141e+00,  3.29766266e+00,  3.39759391e+00,\n",
              "         3.49752516e+00,  3.59745641e+00,  3.69738766e+00,  3.79731891e+00,\n",
              "         3.89725016e+00,  3.99718141e+00,  4.09711266e+00,  4.19704391e+00,\n",
              "         4.29697516e+00,  4.39690641e+00,  4.49683766e+00,  4.59676891e+00,\n",
              "         4.69670016e+00,  4.79663141e+00,  4.89656266e+00,  4.99649391e+00,\n",
              "         5.09642516e+00,  5.19635640e+00,  5.29628765e+00,  5.39621890e+00,\n",
              "         5.49615015e+00,  5.59608140e+00,  5.69601265e+00,  5.79594390e+00]),\n",
              " <a list of 59 Patch objects>)"
            ]
          },
          "metadata": {},
          "execution_count": 53
        },
        {
          "output_type": "display_data",
          "data": {
            "text/plain": [
              "<Figure size 432x288 with 1 Axes>"
            ],
            "image/png": "[encoded data removed]"
          },
          "metadata": {
            "needs_background": "light"
          }
        }
      ]
    },
    {
      "cell_type": "markdown",
      "source": [
        "$\\alpha=1$"
      ],
      "metadata": {
        "id": "-FW70mgsuDqV"
      }
    },
    {
      "cell_type": "code",
      "source": [
        "Y = X\n",
        "for i in range(1):\n",
        "  W = np.random.randn(n1, n0)/np.sqrt(n0)\n",
        "  Y = activation_3(W @ Y)\n",
        "SCM_Y = 1/m * (Y @ Y.T)  \n",
        "\n",
        "eigs_X = np.linalg.eig(SCM_X)[0]\n",
        "eigs_Y = np.linalg.eig(SCM_Y)[0]\n",
        "\n",
        "edges_X = np.linspace(np.min(eigs_X)-.1,np.max(eigs_X)+.2,60)\n",
        "edges_Y = np.linspace(np.min(eigs_Y)-.1,np.max(eigs_Y)+.2,60)\n"
      ],
      "metadata": {
        "id": "JDBCF95Quk-N"
      },
      "execution_count": 54,
      "outputs": []
    },
    {
      "cell_type": "code",
      "source": [
        "edges_X"
      ],
      "metadata": {
        "colab": {
          "base_uri": "https://localhost:8080/"
        },
        "id": "c6QjbejCzXWt",
        "outputId": "7a26fe55-79d8-4cc4-fb85-490f98fa108a"
      },
      "execution_count": 55,
      "outputs": [
        {
          "output_type": "execute_result",
          "data": {
            "text/plain": [
              "array([-0.09999995, -0.02779334,  0.04441326,  0.11661987,  0.18882647,\n",
              "        0.26103308,  0.33323968,  0.40544628,  0.47765289,  0.54985949,\n",
              "        0.6220661 ,  0.6942727 ,  0.76647931,  0.83868591,  0.91089252,\n",
              "        0.98309912,  1.05530573,  1.12751233,  1.19971893,  1.27192554,\n",
              "        1.34413214,  1.41633875,  1.48854535,  1.56075196,  1.63295856,\n",
              "        1.70516517,  1.77737177,  1.84957837,  1.92178498,  1.99399158,\n",
              "        2.06619819,  2.13840479,  2.2106114 ,  2.282818  ,  2.35502461,\n",
              "        2.42723121,  2.49943782,  2.57164442,  2.64385102,  2.71605763,\n",
              "        2.78826423,  2.86047084,  2.93267744,  3.00488405,  3.07709065,\n",
              "        3.14929726,  3.22150386,  3.29371046,  3.36591707,  3.43812367,\n",
              "        3.51033028,  3.58253688,  3.65474349,  3.72695009,  3.7991567 ,\n",
              "        3.8713633 ,  3.94356991,  4.01577651,  4.08798311,  4.16018972])"
            ]
          },
          "metadata": {},
          "execution_count": 55
        }
      ]
    },
    {
      "cell_type": "code",
      "source": [
        "edges_Y "
      ],
      "metadata": {
        "colab": {
          "base_uri": "https://localhost:8080/"
        },
        "id": "zkd7xlUFzY9G",
        "outputId": "be810f67-c3de-4fcc-9d1d-1e19675ec140"
      },
      "execution_count": 56,
      "outputs": [
        {
          "output_type": "execute_result",
          "data": {
            "text/plain": [
              "array([-0.09999961, -0.02655786,  0.04688389,  0.12032564,  0.1937674 ,\n",
              "        0.26720915,  0.3406509 ,  0.41409266,  0.48753441,  0.56097616,\n",
              "        0.63441791,  0.70785967,  0.78130142,  0.85474317,  0.92818492,\n",
              "        1.00162668,  1.07506843,  1.14851018,  1.22195193,  1.29539369,\n",
              "        1.36883544,  1.44227719,  1.51571894,  1.5891607 ,  1.66260245,\n",
              "        1.7360442 ,  1.80948595,  1.88292771,  1.95636946,  2.02981121,\n",
              "        2.10325296,  2.17669472,  2.25013647,  2.32357822,  2.39701997,\n",
              "        2.47046173,  2.54390348,  2.61734523,  2.69078698,  2.76422874,\n",
              "        2.83767049,  2.91111224,  2.984554  ,  3.05799575,  3.1314375 ,\n",
              "        3.20487925,  3.27832101,  3.35176276,  3.42520451,  3.49864626,\n",
              "        3.57208802,  3.64552977,  3.71897152,  3.79241327,  3.86585503,\n",
              "        3.93929678,  4.01273853,  4.08618028,  4.15962204,  4.23306379])"
            ]
          },
          "metadata": {},
          "execution_count": 56
        }
      ]
    },
    {
      "cell_type": "code",
      "source": [
        "plt.hist(eigs_X,bins=edges_X,label='Empirical eigenvalues of $1/mXX^T$')"
      ],
      "metadata": {
        "colab": {
          "base_uri": "https://localhost:8080/",
          "height": 611
        },
        "id": "UpodaOlewRw4",
        "outputId": "3e66bcd7-62a1-4d3e-f336-05a9795dec5e"
      },
      "execution_count": 57,
      "outputs": [
        {
          "output_type": "execute_result",
          "data": {
            "text/plain": [
              "(array([  0., 134.,  84.,  57.,  49.,  39.,  36.,  34.,  29.,  29.,  25.,\n",
              "         24.,  23.,  22.,  21.,  19.,  20.,  16.,  18.,  17.,  15.,  14.,\n",
              "         14.,  16.,  13.,  15.,  12.,  12.,  12.,  10.,  11.,  12.,   8.,\n",
              "         12.,   8.,   9.,   9.,   8.,   7.,   8.,   8.,   7.,   6.,   6.,\n",
              "          7.,   6.,   6.,   5.,   4.,   4.,   5.,   3.,   4.,   2.,   3.,\n",
              "          2.,   1.,   0.,   0.]),\n",
              " array([-0.09999995, -0.02779334,  0.04441326,  0.11661987,  0.18882647,\n",
              "         0.26103308,  0.33323968,  0.40544628,  0.47765289,  0.54985949,\n",
              "         0.6220661 ,  0.6942727 ,  0.76647931,  0.83868591,  0.91089252,\n",
              "         0.98309912,  1.05530573,  1.12751233,  1.19971893,  1.27192554,\n",
              "         1.34413214,  1.41633875,  1.48854535,  1.56075196,  1.63295856,\n",
              "         1.70516517,  1.77737177,  1.84957837,  1.92178498,  1.99399158,\n",
              "         2.06619819,  2.13840479,  2.2106114 ,  2.282818  ,  2.35502461,\n",
              "         2.42723121,  2.49943782,  2.57164442,  2.64385102,  2.71605763,\n",
              "         2.78826423,  2.86047084,  2.93267744,  3.00488405,  3.07709065,\n",
              "         3.14929726,  3.22150386,  3.29371046,  3.36591707,  3.43812367,\n",
              "         3.51033028,  3.58253688,  3.65474349,  3.72695009,  3.7991567 ,\n",
              "         3.8713633 ,  3.94356991,  4.01577651,  4.08798311,  4.16018972]),\n",
              " <a list of 59 Patch objects>)"
            ]
          },
          "metadata": {},
          "execution_count": 57
        },
        {
          "output_type": "display_data",
          "data": {
            "text/plain": [
              "<Figure size 432x288 with 1 Axes>"
            ],
            "image/png": "[encoded data removed]"
          },
          "metadata": {
            "needs_background": "light"
          }
        }
      ]
    },
    {
      "cell_type": "code",
      "source": [
        "plt.hist(eigs_Y,bins=edges_Y,label='Empirical eigenvalues of $1/mYY^T$')"
      ],
      "metadata": {
        "colab": {
          "base_uri": "https://localhost:8080/",
          "height": 607
        },
        "id": "-qxqhiUGwUDv",
        "outputId": "27fa786a-cb29-4062-9cb5-187c444c3aa3"
      },
      "execution_count": 58,
      "outputs": [
        {
          "output_type": "execute_result",
          "data": {
            "text/plain": [
              "(array([  0., 139.,  84.,  55.,  48.,  42.,  36.,  33.,  29.,  28.,  26.,\n",
              "         25.,  23.,  22.,  22.,  19.,  17.,  19.,  18.,  15.,  17.,  15.,\n",
              "         16.,  14.,  12.,  12.,  12.,  13.,  12.,  11.,  11.,   9.,  11.,\n",
              "         10.,   9.,   9.,   9.,   7.,   8.,   9.,   8.,   6.,   6.,   8.,\n",
              "          4.,   7.,   4.,   5.,   4.,   5.,   4.,   3.,   3.,   3.,   1.,\n",
              "          2.,   1.,   0.,   0.]),\n",
              " array([-0.09999961, -0.02655786,  0.04688389,  0.12032564,  0.1937674 ,\n",
              "         0.26720915,  0.3406509 ,  0.41409266,  0.48753441,  0.56097616,\n",
              "         0.63441791,  0.70785967,  0.78130142,  0.85474317,  0.92818492,\n",
              "         1.00162668,  1.07506843,  1.14851018,  1.22195193,  1.29539369,\n",
              "         1.36883544,  1.44227719,  1.51571894,  1.5891607 ,  1.66260245,\n",
              "         1.7360442 ,  1.80948595,  1.88292771,  1.95636946,  2.02981121,\n",
              "         2.10325296,  2.17669472,  2.25013647,  2.32357822,  2.39701997,\n",
              "         2.47046173,  2.54390348,  2.61734523,  2.69078698,  2.76422874,\n",
              "         2.83767049,  2.91111224,  2.984554  ,  3.05799575,  3.1314375 ,\n",
              "         3.20487925,  3.27832101,  3.35176276,  3.42520451,  3.49864626,\n",
              "         3.57208802,  3.64552977,  3.71897152,  3.79241327,  3.86585503,\n",
              "         3.93929678,  4.01273853,  4.08618028,  4.15962204,  4.23306379]),\n",
              " <a list of 59 Patch objects>)"
            ]
          },
          "metadata": {},
          "execution_count": 58
        },
        {
          "output_type": "display_data",
          "data": {
            "text/plain": [
              "<Figure size 432x288 with 1 Axes>"
            ],
            "image/png": "[encoded data removed]"
          },
          "metadata": {
            "needs_background": "light"
          }
        }
      ]
    },
    {
      "cell_type": "markdown",
      "source": [
        "# 10层网络"
      ],
      "metadata": {
        "id": "kmFW80Nr6HDQ"
      }
    },
    {
      "cell_type": "code",
      "source": [
        "n = [1000, 1000, 1000, 1000, 1000, 1000, 1000, 1000, 1000, 1000, 1000] # greater n gets greater results\n",
        "m = 1000\n",
        "\n",
        "X = np.random.randn(n[0], m)\n",
        "SCM_X = 1/m * (X @ X.T)"
      ],
      "metadata": {
        "id": "gNaruA-96bWU"
      },
      "execution_count": 135,
      "outputs": []
    },
    {
      "cell_type": "markdown",
      "source": [
        "$\\alpha=-1$"
      ],
      "metadata": {
        "id": "CGGHU4K96bWU"
      }
    },
    {
      "cell_type": "code",
      "source": [
        "Y = X\n",
        "for i in range(10):\n",
        "  print(i)\n",
        "  W = np.random.randn(n[i+1], n[i])/np.sqrt(n[i])\n",
        "  Y = activation_1(W @ Y)\n",
        "SCM_Y = 1/m * (Y @ Y.T)  \n",
        "\n",
        "eigs_X = np.linalg.eig(SCM_X)[0]\n",
        "eigs_Y = np.linalg.eig(SCM_Y)[0]\n",
        "\n",
        "edges_X = np.linspace(np.min(eigs_X)-.1,np.max(eigs_X)+.2,60)\n",
        "edges_Y = np.linspace(np.min(eigs_Y)-.1,np.max(eigs_Y)+.2,60)\n"
      ],
      "metadata": {
        "colab": {
          "base_uri": "https://localhost:8080/"
        },
        "id": "u1oPWzWa6bWU",
        "outputId": "1df5efa4-1182-4d25-94fa-aaa0c75efc54"
      },
      "execution_count": 136,
      "outputs": [
        {
          "output_type": "stream",
          "name": "stdout",
          "text": [
            "0\n",
            "1\n",
            "2\n",
            "3\n",
            "4\n",
            "5\n",
            "6\n",
            "7\n",
            "8\n",
            "9\n"
          ]
        }
      ]
    },
    {
      "cell_type": "code",
      "source": [
        "edges_X"
      ],
      "metadata": {
        "colab": {
          "base_uri": "https://localhost:8080/"
        },
        "outputId": "a1f851c0-2e79-44fd-9fbe-a92542a36d12",
        "id": "qoZhBvCn6bWU"
      },
      "execution_count": 137,
      "outputs": [
        {
          "output_type": "execute_result",
          "data": {
            "text/plain": [
              "array([-0.0999996 , -0.02816353,  0.04367253,  0.11550859,  0.18734466,\n",
              "        0.25918072,  0.33101678,  0.40285284,  0.47468891,  0.54652497,\n",
              "        0.61836103,  0.6901971 ,  0.76203316,  0.83386922,  0.90570529,\n",
              "        0.97754135,  1.04937741,  1.12121348,  1.19304954,  1.2648856 ,\n",
              "        1.33672166,  1.40855773,  1.48039379,  1.55222985,  1.62406592,\n",
              "        1.69590198,  1.76773804,  1.83957411,  1.91141017,  1.98324623,\n",
              "        2.05508229,  2.12691836,  2.19875442,  2.27059048,  2.34242655,\n",
              "        2.41426261,  2.48609867,  2.55793474,  2.6297708 ,  2.70160686,\n",
              "        2.77344292,  2.84527899,  2.91711505,  2.98895111,  3.06078718,\n",
              "        3.13262324,  3.2044593 ,  3.27629537,  3.34813143,  3.41996749,\n",
              "        3.49180356,  3.56363962,  3.63547568,  3.70731174,  3.77914781,\n",
              "        3.85098387,  3.92281993,  3.994656  ,  4.06649206,  4.13832812])"
            ]
          },
          "metadata": {},
          "execution_count": 137
        }
      ]
    },
    {
      "cell_type": "code",
      "source": [
        "edges_Y"
      ],
      "metadata": {
        "colab": {
          "base_uri": "https://localhost:8080/"
        },
        "outputId": "6e83e248-f36e-437f-9f22-b648c635b5e9",
        "id": "1wcn9SyL6bWV"
      },
      "execution_count": 138,
      "outputs": [
        {
          "output_type": "execute_result",
          "data": {
            "text/plain": [
              "array([-0.1       +0.j,  0.39936461+0.j,  0.89872922+0.j,  1.39809384+0.j,\n",
              "        1.89745845+0.j,  2.39682306+0.j,  2.89618767+0.j,  3.39555228+0.j,\n",
              "        3.89491689+0.j,  4.39428151+0.j,  4.89364612+0.j,  5.39301073+0.j,\n",
              "        5.89237534+0.j,  6.39173995+0.j,  6.89110456+0.j,  7.39046918+0.j,\n",
              "        7.88983379+0.j,  8.3891984 +0.j,  8.88856301+0.j,  9.38792762+0.j,\n",
              "        9.88729223+0.j, 10.38665685+0.j, 10.88602146+0.j, 11.38538607+0.j,\n",
              "       11.88475068+0.j, 12.38411529+0.j, 12.8834799 +0.j, 13.38284452+0.j,\n",
              "       13.88220913+0.j, 14.38157374+0.j, 14.88093835+0.j, 15.38030296+0.j,\n",
              "       15.87966757+0.j, 16.37903219+0.j, 16.8783968 +0.j, 17.37776141+0.j,\n",
              "       17.87712602+0.j, 18.37649063+0.j, 18.87585524+0.j, 19.37521986+0.j,\n",
              "       19.87458447+0.j, 20.37394908+0.j, 20.87331369+0.j, 21.3726783 +0.j,\n",
              "       21.87204291+0.j, 22.37140753+0.j, 22.87077214+0.j, 23.37013675+0.j,\n",
              "       23.86950136+0.j, 24.36886597+0.j, 24.86823059+0.j, 25.3675952 +0.j,\n",
              "       25.86695981+0.j, 26.36632442+0.j, 26.86568903+0.j, 27.36505364+0.j,\n",
              "       27.86441826+0.j, 28.36378287+0.j, 28.86314748+0.j, 29.36251209+0.j])"
            ]
          },
          "metadata": {},
          "execution_count": 138
        }
      ]
    },
    {
      "cell_type": "code",
      "source": [
        "plt.hist(eigs_X,bins=edges_X,label='Empirical eigenvalues of $1/mXX^T$')"
      ],
      "metadata": {
        "colab": {
          "base_uri": "https://localhost:8080/",
          "height": 607
        },
        "outputId": "87e61138-6098-49c2-c461-88952e7be20c",
        "id": "KMrc8nrw6bWV"
      },
      "execution_count": 139,
      "outputs": [
        {
          "output_type": "execute_result",
          "data": {
            "text/plain": [
              "(array([  0., 132.,  84.,  58.,  46.,  40.,  38.,  30.,  31.,  28.,  26.,\n",
              "         25.,  22.,  23.,  19.,  21.,  19.,  17.,  17.,  17.,  16.,  15.,\n",
              "         16.,  13.,  14.,  14.,  11.,  13.,  12.,  11.,  11.,  10.,  11.,\n",
              "          9.,   9.,   9.,  11.,   7.,   7.,   8.,   7.,   7.,   9.,   6.,\n",
              "          6.,   5.,   5.,   7.,   3.,   5.,   3.,   4.,   4.,   3.,   3.,\n",
              "          2.,   1.,   0.,   0.]),\n",
              " array([-0.0999996 , -0.02816353,  0.04367253,  0.11550859,  0.18734466,\n",
              "         0.25918072,  0.33101678,  0.40285284,  0.47468891,  0.54652497,\n",
              "         0.61836103,  0.6901971 ,  0.76203316,  0.83386922,  0.90570529,\n",
              "         0.97754135,  1.04937741,  1.12121348,  1.19304954,  1.2648856 ,\n",
              "         1.33672166,  1.40855773,  1.48039379,  1.55222985,  1.62406592,\n",
              "         1.69590198,  1.76773804,  1.83957411,  1.91141017,  1.98324623,\n",
              "         2.05508229,  2.12691836,  2.19875442,  2.27059048,  2.34242655,\n",
              "         2.41426261,  2.48609867,  2.55793474,  2.6297708 ,  2.70160686,\n",
              "         2.77344292,  2.84527899,  2.91711505,  2.98895111,  3.06078718,\n",
              "         3.13262324,  3.2044593 ,  3.27629537,  3.34813143,  3.41996749,\n",
              "         3.49180356,  3.56363962,  3.63547568,  3.70731174,  3.77914781,\n",
              "         3.85098387,  3.92281993,  3.994656  ,  4.06649206,  4.13832812]),\n",
              " <a list of 59 Patch objects>)"
            ]
          },
          "metadata": {},
          "execution_count": 139
        },
        {
          "output_type": "display_data",
          "data": {
            "text/plain": [
              "<Figure size 432x288 with 1 Axes>"
            ],
            "image/png": "[encoded data removed]"
          },
          "metadata": {
            "needs_background": "light"
          }
        }
      ]
    },
    {
      "cell_type": "code",
      "source": [
        "plt.hist(eigs_Y,bins=edges_Y,label='Empirical eigenvalues of $1/mYY^T$')"
      ],
      "metadata": {
        "colab": {
          "base_uri": "https://localhost:8080/",
          "height": 753
        },
        "outputId": "c1f3d21e-a6b6-4852-f58a-42ef689885b5",
        "id": "f1NpPOX66bWV"
      },
      "execution_count": 140,
      "outputs": [
        {
          "output_type": "stream",
          "name": "stderr",
          "text": [
            "/usr/local/lib/python3.7/dist-packages/matplotlib/transforms.py:789: ComplexWarning: Casting complex values to real discards the imaginary part\n",
            "  points = np.array(args, dtype=float).reshape(2, 2)\n",
            "/usr/local/lib/python3.7/dist-packages/matplotlib/transforms.py:1969: ComplexWarning: Casting complex values to real discards the imaginary part\n",
            "  x, y = float(x), float(y)\n"
          ]
        },
        {
          "output_type": "execute_result",
          "data": {
            "text/plain": [
              "(array([808.,  43.,  25.,  15.,  12.,  10.,   8.,   6.,   6.,   4.,   5.,\n",
              "          4.,   3.,   4.,   3.,   3.,   3.,   1.,   2.,   3.,   2.,   2.,\n",
              "          2.,   1.,   1.,   2.,   1.,   1.,   2.,   0.,   2.,   1.,   1.,\n",
              "          1.,   1.,   1.,   1.,   0.,   1.,   0.,   1.,   1.,   1.,   0.,\n",
              "          0.,   0.,   1.,   0.,   0.,   1.,   0.,   1.,   1.,   0.,   0.,\n",
              "          1.,   0.,   0.,   1.]),\n",
              " array([-0.1       +0.j,  0.39936461+0.j,  0.89872922+0.j,  1.39809384+0.j,\n",
              "         1.89745845+0.j,  2.39682306+0.j,  2.89618767+0.j,  3.39555228+0.j,\n",
              "         3.89491689+0.j,  4.39428151+0.j,  4.89364612+0.j,  5.39301073+0.j,\n",
              "         5.89237534+0.j,  6.39173995+0.j,  6.89110456+0.j,  7.39046918+0.j,\n",
              "         7.88983379+0.j,  8.3891984 +0.j,  8.88856301+0.j,  9.38792762+0.j,\n",
              "         9.88729223+0.j, 10.38665685+0.j, 10.88602146+0.j, 11.38538607+0.j,\n",
              "        11.88475068+0.j, 12.38411529+0.j, 12.8834799 +0.j, 13.38284452+0.j,\n",
              "        13.88220913+0.j, 14.38157374+0.j, 14.88093835+0.j, 15.38030296+0.j,\n",
              "        15.87966757+0.j, 16.37903219+0.j, 16.8783968 +0.j, 17.37776141+0.j,\n",
              "        17.87712602+0.j, 18.37649063+0.j, 18.87585524+0.j, 19.37521986+0.j,\n",
              "        19.87458447+0.j, 20.37394908+0.j, 20.87331369+0.j, 21.3726783 +0.j,\n",
              "        21.87204291+0.j, 22.37140753+0.j, 22.87077214+0.j, 23.37013675+0.j,\n",
              "        23.86950136+0.j, 24.36886597+0.j, 24.86823059+0.j, 25.3675952 +0.j,\n",
              "        25.86695981+0.j, 26.36632442+0.j, 26.86568903+0.j, 27.36505364+0.j,\n",
              "        27.86441826+0.j, 28.36378287+0.j, 28.86314748+0.j, 29.36251209+0.j]),\n",
              " <a list of 59 Patch objects>)"
            ]
          },
          "metadata": {},
          "execution_count": 140
        },
        {
          "output_type": "display_data",
          "data": {
            "text/plain": [
              "<Figure size 432x288 with 1 Axes>"
            ],
            "image/png": "[encoded data removed]"
          },
          "metadata": {
            "needs_background": "light"
          }
        }
      ]
    },
    {
      "cell_type": "markdown",
      "source": [
        "$\\alpha=0$"
      ],
      "metadata": {
        "id": "VWET925K6bWV"
      }
    },
    {
      "cell_type": "code",
      "source": [
        "Y = X\n",
        "for i in range(10):\n",
        "  W = np.random.randn(n[i+1], n[i])/np.sqrt(n[i])\n",
        "  Y = activation_2(W @ Y)\n",
        "SCM_Y = 1/m * (Y @ Y.T)  \n",
        "\n",
        "eigs_X = np.linalg.eig(SCM_X)[0]\n",
        "eigs_Y = np.linalg.eig(SCM_Y)[0]\n",
        "\n",
        "edges_X = np.linspace(np.min(eigs_X)-.1,np.max(eigs_X)+.2,60)\n",
        "edges_Y = np.linspace(np.min(eigs_Y)-.1,np.max(eigs_Y)+.2,60)\n"
      ],
      "metadata": {
        "id": "XaU9EhjX6bWW"
      },
      "execution_count": 141,
      "outputs": []
    },
    {
      "cell_type": "code",
      "source": [
        "edges_X"
      ],
      "metadata": {
        "colab": {
          "base_uri": "https://localhost:8080/"
        },
        "outputId": "d2985500-5775-4fce-e051-5d7bfdcde001",
        "id": "gknDCZNz6bWW"
      },
      "execution_count": 142,
      "outputs": [
        {
          "output_type": "execute_result",
          "data": {
            "text/plain": [
              "array([-0.0999996 , -0.02816353,  0.04367253,  0.11550859,  0.18734466,\n",
              "        0.25918072,  0.33101678,  0.40285284,  0.47468891,  0.54652497,\n",
              "        0.61836103,  0.6901971 ,  0.76203316,  0.83386922,  0.90570529,\n",
              "        0.97754135,  1.04937741,  1.12121348,  1.19304954,  1.2648856 ,\n",
              "        1.33672166,  1.40855773,  1.48039379,  1.55222985,  1.62406592,\n",
              "        1.69590198,  1.76773804,  1.83957411,  1.91141017,  1.98324623,\n",
              "        2.05508229,  2.12691836,  2.19875442,  2.27059048,  2.34242655,\n",
              "        2.41426261,  2.48609867,  2.55793474,  2.6297708 ,  2.70160686,\n",
              "        2.77344292,  2.84527899,  2.91711505,  2.98895111,  3.06078718,\n",
              "        3.13262324,  3.2044593 ,  3.27629537,  3.34813143,  3.41996749,\n",
              "        3.49180356,  3.56363962,  3.63547568,  3.70731174,  3.77914781,\n",
              "        3.85098387,  3.92281993,  3.994656  ,  4.06649206,  4.13832812])"
            ]
          },
          "metadata": {},
          "execution_count": 142
        }
      ]
    },
    {
      "cell_type": "code",
      "source": [
        "edges_Y"
      ],
      "metadata": {
        "colab": {
          "base_uri": "https://localhost:8080/"
        },
        "outputId": "1c714ab9-924d-45d9-a422-7d1b28278a71",
        "id": "yNmPIV3a6bWX"
      },
      "execution_count": 143,
      "outputs": [
        {
          "output_type": "execute_result",
          "data": {
            "text/plain": [
              "array([-0.09999996,  0.20683731,  0.51367457,  0.82051183,  1.12734909,\n",
              "        1.43418636,  1.74102362,  2.04786088,  2.35469815,  2.66153541,\n",
              "        2.96837267,  3.27520993,  3.5820472 ,  3.88888446,  4.19572172,\n",
              "        4.50255899,  4.80939625,  5.11623351,  5.42307077,  5.72990804,\n",
              "        6.0367453 ,  6.34358256,  6.65041983,  6.95725709,  7.26409435,\n",
              "        7.57093161,  7.87776888,  8.18460614,  8.4914434 ,  8.79828067,\n",
              "        9.10511793,  9.41195519,  9.71879245, 10.02562972, 10.33246698,\n",
              "       10.63930424, 10.94614151, 11.25297877, 11.55981603, 11.86665329,\n",
              "       12.17349056, 12.48032782, 12.78716508, 13.09400235, 13.40083961,\n",
              "       13.70767687, 14.01451413, 14.3213514 , 14.62818866, 14.93502592,\n",
              "       15.24186319, 15.54870045, 15.85553771, 16.16237497, 16.46921224,\n",
              "       16.7760495 , 17.08288676, 17.38972403, 17.69656129, 18.00339855])"
            ]
          },
          "metadata": {},
          "execution_count": 143
        }
      ]
    },
    {
      "cell_type": "code",
      "source": [
        "plt.hist(eigs_X,bins=edges_X,label='Empirical eigenvalues of $1/mXX^T$')"
      ],
      "metadata": {
        "colab": {
          "base_uri": "https://localhost:8080/",
          "height": 607
        },
        "outputId": "7bd577d1-3b18-49f1-dec6-1c32a386fcbb",
        "id": "dxtl9I3P6bWX"
      },
      "execution_count": 144,
      "outputs": [
        {
          "output_type": "execute_result",
          "data": {
            "text/plain": [
              "(array([  0., 132.,  84.,  58.,  46.,  40.,  38.,  30.,  31.,  28.,  26.,\n",
              "         25.,  22.,  23.,  19.,  21.,  19.,  17.,  17.,  17.,  16.,  15.,\n",
              "         16.,  13.,  14.,  14.,  11.,  13.,  12.,  11.,  11.,  10.,  11.,\n",
              "          9.,   9.,   9.,  11.,   7.,   7.,   8.,   7.,   7.,   9.,   6.,\n",
              "          6.,   5.,   5.,   7.,   3.,   5.,   3.,   4.,   4.,   3.,   3.,\n",
              "          2.,   1.,   0.,   0.]),\n",
              " array([-0.0999996 , -0.02816353,  0.04367253,  0.11550859,  0.18734466,\n",
              "         0.25918072,  0.33101678,  0.40285284,  0.47468891,  0.54652497,\n",
              "         0.61836103,  0.6901971 ,  0.76203316,  0.83386922,  0.90570529,\n",
              "         0.97754135,  1.04937741,  1.12121348,  1.19304954,  1.2648856 ,\n",
              "         1.33672166,  1.40855773,  1.48039379,  1.55222985,  1.62406592,\n",
              "         1.69590198,  1.76773804,  1.83957411,  1.91141017,  1.98324623,\n",
              "         2.05508229,  2.12691836,  2.19875442,  2.27059048,  2.34242655,\n",
              "         2.41426261,  2.48609867,  2.55793474,  2.6297708 ,  2.70160686,\n",
              "         2.77344292,  2.84527899,  2.91711505,  2.98895111,  3.06078718,\n",
              "         3.13262324,  3.2044593 ,  3.27629537,  3.34813143,  3.41996749,\n",
              "         3.49180356,  3.56363962,  3.63547568,  3.70731174,  3.77914781,\n",
              "         3.85098387,  3.92281993,  3.994656  ,  4.06649206,  4.13832812]),\n",
              " <a list of 59 Patch objects>)"
            ]
          },
          "metadata": {},
          "execution_count": 144
        },
        {
          "output_type": "display_data",
          "data": {
            "text/plain": [
              "<Figure size 432x288 with 1 Axes>"
            ],
            "image/png": "[encoded data removed]"
          },
          "metadata": {
            "needs_background": "light"
          }
        }
      ]
    },
    {
      "cell_type": "code",
      "source": [
        "plt.hist(eigs_X[1:],bins=edges_X[1:],label='Empirical eigenvalues of $1/mXX^T$')"
      ],
      "metadata": {
        "colab": {
          "base_uri": "https://localhost:8080/",
          "height": 607
        },
        "id": "CNwfzKTjF7Sj",
        "outputId": "935bd57e-8617-437f-dded-48b2a7f2c58d"
      },
      "execution_count": 145,
      "outputs": [
        {
          "output_type": "execute_result",
          "data": {
            "text/plain": [
              "(array([132.,  84.,  58.,  46.,  40.,  38.,  30.,  31.,  28.,  26.,  25.,\n",
              "         22.,  23.,  19.,  21.,  19.,  17.,  17.,  17.,  16.,  15.,  16.,\n",
              "         13.,  14.,  14.,  11.,  13.,  12.,  11.,  11.,  10.,  11.,   9.,\n",
              "          9.,   9.,  11.,   7.,   7.,   8.,   7.,   7.,   9.,   6.,   6.,\n",
              "          5.,   5.,   7.,   3.,   5.,   3.,   4.,   4.,   3.,   3.,   2.,\n",
              "          0.,   0.,   0.]),\n",
              " array([-0.02816353,  0.04367253,  0.11550859,  0.18734466,  0.25918072,\n",
              "         0.33101678,  0.40285284,  0.47468891,  0.54652497,  0.61836103,\n",
              "         0.6901971 ,  0.76203316,  0.83386922,  0.90570529,  0.97754135,\n",
              "         1.04937741,  1.12121348,  1.19304954,  1.2648856 ,  1.33672166,\n",
              "         1.40855773,  1.48039379,  1.55222985,  1.62406592,  1.69590198,\n",
              "         1.76773804,  1.83957411,  1.91141017,  1.98324623,  2.05508229,\n",
              "         2.12691836,  2.19875442,  2.27059048,  2.34242655,  2.41426261,\n",
              "         2.48609867,  2.55793474,  2.6297708 ,  2.70160686,  2.77344292,\n",
              "         2.84527899,  2.91711505,  2.98895111,  3.06078718,  3.13262324,\n",
              "         3.2044593 ,  3.27629537,  3.34813143,  3.41996749,  3.49180356,\n",
              "         3.56363962,  3.63547568,  3.70731174,  3.77914781,  3.85098387,\n",
              "         3.92281993,  3.994656  ,  4.06649206,  4.13832812]),\n",
              " <a list of 58 Patch objects>)"
            ]
          },
          "metadata": {},
          "execution_count": 145
        },
        {
          "output_type": "display_data",
          "data": {
            "text/plain": [
              "<Figure size 432x288 with 1 Axes>"
            ],
            "image/png": "[encoded data removed]"
          },
          "metadata": {
            "needs_background": "light"
          }
        }
      ]
    },
    {
      "cell_type": "code",
      "source": [
        "plt.hist(eigs_Y,bins=edges_Y,label='Empirical eigenvalues of $1/mYY^T$')"
      ],
      "metadata": {
        "colab": {
          "base_uri": "https://localhost:8080/",
          "height": 607
        },
        "outputId": "46d69d02-84e4-476e-ba2c-19ee1944146c",
        "id": "ZPbPlR-96bWX"
      },
      "execution_count": 146,
      "outputs": [
        {
          "output_type": "execute_result",
          "data": {
            "text/plain": [
              "(array([388., 178.,  98.,  66.,  48.,  35.,  29.,  22.,  19.,  17.,  12.,\n",
              "         13.,  10.,   7.,   9.,   7.,   5.,   5.,   6.,   4.,   3.,   4.,\n",
              "          3.,   3.,   2.,   2.,   1.,   0.,   2.,   0.,   1.,   0.,   0.,\n",
              "          0.,   0.,   0.,   0.,   0.,   0.,   0.,   0.,   0.,   0.,   0.,\n",
              "          0.,   0.,   0.,   0.,   0.,   0.,   0.,   0.,   0.,   0.,   0.,\n",
              "          0.,   0.,   0.,   1.]),\n",
              " array([-0.09999996,  0.20683731,  0.51367457,  0.82051183,  1.12734909,\n",
              "         1.43418636,  1.74102362,  2.04786088,  2.35469815,  2.66153541,\n",
              "         2.96837267,  3.27520993,  3.5820472 ,  3.88888446,  4.19572172,\n",
              "         4.50255899,  4.80939625,  5.11623351,  5.42307077,  5.72990804,\n",
              "         6.0367453 ,  6.34358256,  6.65041983,  6.95725709,  7.26409435,\n",
              "         7.57093161,  7.87776888,  8.18460614,  8.4914434 ,  8.79828067,\n",
              "         9.10511793,  9.41195519,  9.71879245, 10.02562972, 10.33246698,\n",
              "        10.63930424, 10.94614151, 11.25297877, 11.55981603, 11.86665329,\n",
              "        12.17349056, 12.48032782, 12.78716508, 13.09400235, 13.40083961,\n",
              "        13.70767687, 14.01451413, 14.3213514 , 14.62818866, 14.93502592,\n",
              "        15.24186319, 15.54870045, 15.85553771, 16.16237497, 16.46921224,\n",
              "        16.7760495 , 17.08288676, 17.38972403, 17.69656129, 18.00339855]),\n",
              " <a list of 59 Patch objects>)"
            ]
          },
          "metadata": {},
          "execution_count": 146
        },
        {
          "output_type": "display_data",
          "data": {
            "text/plain": [
              "<Figure size 432x288 with 1 Axes>"
            ],
            "image/png": "[encoded data removed]"
          },
          "metadata": {
            "needs_background": "light"
          }
        }
      ]
    },
    {
      "cell_type": "code",
      "source": [
        "plt.hist(eigs_Y[1:],bins=edges_Y[1:],label='Empirical eigenvalues of $1/mYY^T$')"
      ],
      "metadata": {
        "colab": {
          "base_uri": "https://localhost:8080/",
          "height": 607
        },
        "id": "6yuvl56BF-9v",
        "outputId": "7f4f8039-f207-4363-ba4e-cc682927d767"
      },
      "execution_count": 147,
      "outputs": [
        {
          "output_type": "execute_result",
          "data": {
            "text/plain": [
              "(array([178.,  98.,  66.,  48.,  35.,  29.,  22.,  19.,  17.,  12.,  13.,\n",
              "         10.,   7.,   9.,   7.,   5.,   5.,   6.,   4.,   3.,   4.,   3.,\n",
              "          3.,   2.,   2.,   1.,   0.,   2.,   0.,   1.,   0.,   0.,   0.,\n",
              "          0.,   0.,   0.,   0.,   0.,   0.,   0.,   0.,   0.,   0.,   0.,\n",
              "          0.,   0.,   0.,   0.,   0.,   0.,   0.,   0.,   0.,   0.,   0.,\n",
              "          0.,   0.,   0.]),\n",
              " array([ 0.20683731,  0.51367457,  0.82051183,  1.12734909,  1.43418636,\n",
              "         1.74102362,  2.04786088,  2.35469815,  2.66153541,  2.96837267,\n",
              "         3.27520993,  3.5820472 ,  3.88888446,  4.19572172,  4.50255899,\n",
              "         4.80939625,  5.11623351,  5.42307077,  5.72990804,  6.0367453 ,\n",
              "         6.34358256,  6.65041983,  6.95725709,  7.26409435,  7.57093161,\n",
              "         7.87776888,  8.18460614,  8.4914434 ,  8.79828067,  9.10511793,\n",
              "         9.41195519,  9.71879245, 10.02562972, 10.33246698, 10.63930424,\n",
              "        10.94614151, 11.25297877, 11.55981603, 11.86665329, 12.17349056,\n",
              "        12.48032782, 12.78716508, 13.09400235, 13.40083961, 13.70767687,\n",
              "        14.01451413, 14.3213514 , 14.62818866, 14.93502592, 15.24186319,\n",
              "        15.54870045, 15.85553771, 16.16237497, 16.46921224, 16.7760495 ,\n",
              "        17.08288676, 17.38972403, 17.69656129, 18.00339855]),\n",
              " <a list of 58 Patch objects>)"
            ]
          },
          "metadata": {},
          "execution_count": 147
        },
        {
          "output_type": "display_data",
          "data": {
            "text/plain": [
              "<Figure size 432x288 with 1 Axes>"
            ],
            "image/png": "[encoded data removed]"
          },
          "metadata": {
            "needs_background": "light"
          }
        }
      ]
    },
    {
      "cell_type": "markdown",
      "source": [
        "$\\alpha=1$"
      ],
      "metadata": {
        "id": "bzyJ-g1E6bWY"
      }
    },
    {
      "cell_type": "code",
      "source": [
        "Y = X\n",
        "for i in range(10):\n",
        "  W = np.random.randn(n[i+1], n[i])/np.sqrt(n[i])\n",
        "  Y = activation_3(W @ Y)\n",
        "SCM_Y = 1/m * (Y @ Y.T)  \n",
        "\n",
        "eigs_X = np.linalg.eig(SCM_X)[0]\n",
        "eigs_Y = np.linalg.eig(SCM_Y)[0]\n",
        "\n",
        "edges_X = np.linspace(np.min(eigs_X)-.1,np.max(eigs_X)+.2,60)\n",
        "edges_Y = np.linspace(np.min(eigs_Y)-.1,np.max(eigs_Y)+.2,60)\n"
      ],
      "metadata": {
        "id": "z6mymH1a6bWY"
      },
      "execution_count": 153,
      "outputs": []
    },
    {
      "cell_type": "code",
      "source": [
        "edges_X"
      ],
      "metadata": {
        "colab": {
          "base_uri": "https://localhost:8080/"
        },
        "outputId": "940b653b-0d0d-4db2-c711-519fe4bc1bfa",
        "id": "mcs5vH9n6bWY"
      },
      "execution_count": 154,
      "outputs": [
        {
          "output_type": "execute_result",
          "data": {
            "text/plain": [
              "array([-0.0999996 , -0.02816353,  0.04367253,  0.11550859,  0.18734466,\n",
              "        0.25918072,  0.33101678,  0.40285284,  0.47468891,  0.54652497,\n",
              "        0.61836103,  0.6901971 ,  0.76203316,  0.83386922,  0.90570529,\n",
              "        0.97754135,  1.04937741,  1.12121348,  1.19304954,  1.2648856 ,\n",
              "        1.33672166,  1.40855773,  1.48039379,  1.55222985,  1.62406592,\n",
              "        1.69590198,  1.76773804,  1.83957411,  1.91141017,  1.98324623,\n",
              "        2.05508229,  2.12691836,  2.19875442,  2.27059048,  2.34242655,\n",
              "        2.41426261,  2.48609867,  2.55793474,  2.6297708 ,  2.70160686,\n",
              "        2.77344292,  2.84527899,  2.91711505,  2.98895111,  3.06078718,\n",
              "        3.13262324,  3.2044593 ,  3.27629537,  3.34813143,  3.41996749,\n",
              "        3.49180356,  3.56363962,  3.63547568,  3.70731174,  3.77914781,\n",
              "        3.85098387,  3.92281993,  3.994656  ,  4.06649206,  4.13832812])"
            ]
          },
          "metadata": {},
          "execution_count": 154
        }
      ]
    },
    {
      "cell_type": "code",
      "source": [
        "edges_Y "
      ],
      "metadata": {
        "colab": {
          "base_uri": "https://localhost:8080/"
        },
        "outputId": "5d9fe9cb-5cf8-4001-b392-171634be0ccd",
        "id": "2ecPjH4I6bWY"
      },
      "execution_count": 155,
      "outputs": [
        {
          "output_type": "execute_result",
          "data": {
            "text/plain": [
              "array([-0.09999952,  0.35124398,  0.80248748,  1.25373098,  1.70497448,\n",
              "        2.15621798,  2.60746148,  3.05870498,  3.50994848,  3.96119199,\n",
              "        4.41243549,  4.86367899,  5.31492249,  5.76616599,  6.21740949,\n",
              "        6.66865299,  7.11989649,  7.57113999,  8.02238349,  8.47362699,\n",
              "        8.92487049,  9.37611399,  9.82735749, 10.27860099, 10.72984449,\n",
              "       11.18108799, 11.63233149, 12.08357499, 12.53481849, 12.98606199,\n",
              "       13.43730549, 13.888549  , 14.3397925 , 14.791036  , 15.2422795 ,\n",
              "       15.693523  , 16.1447665 , 16.59601   , 17.0472535 , 17.498497  ,\n",
              "       17.9497405 , 18.400984  , 18.8522275 , 19.303471  , 19.7547145 ,\n",
              "       20.205958  , 20.6572015 , 21.108445  , 21.5596885 , 22.010932  ,\n",
              "       22.4621755 , 22.913419  , 23.3646625 , 23.81590601, 24.26714951,\n",
              "       24.71839301, 25.16963651, 25.62088001, 26.07212351, 26.52336701])"
            ]
          },
          "metadata": {},
          "execution_count": 155
        }
      ]
    },
    {
      "cell_type": "code",
      "source": [
        "plt.hist(eigs_X,bins=edges_X,label='Empirical eigenvalues of $1/mXX^T$')"
      ],
      "metadata": {
        "colab": {
          "base_uri": "https://localhost:8080/",
          "height": 607
        },
        "outputId": "361c4083-aceb-45c1-de25-62429b7a4c45",
        "id": "5EArNF9e6bWY"
      },
      "execution_count": 151,
      "outputs": [
        {
          "output_type": "execute_result",
          "data": {
            "text/plain": [
              "(array([  0., 132.,  84.,  58.,  46.,  40.,  38.,  30.,  31.,  28.,  26.,\n",
              "         25.,  22.,  23.,  19.,  21.,  19.,  17.,  17.,  17.,  16.,  15.,\n",
              "         16.,  13.,  14.,  14.,  11.,  13.,  12.,  11.,  11.,  10.,  11.,\n",
              "          9.,   9.,   9.,  11.,   7.,   7.,   8.,   7.,   7.,   9.,   6.,\n",
              "          6.,   5.,   5.,   7.,   3.,   5.,   3.,   4.,   4.,   3.,   3.,\n",
              "          2.,   1.,   0.,   0.]),\n",
              " array([-0.0999996 , -0.02816353,  0.04367253,  0.11550859,  0.18734466,\n",
              "         0.25918072,  0.33101678,  0.40285284,  0.47468891,  0.54652497,\n",
              "         0.61836103,  0.6901971 ,  0.76203316,  0.83386922,  0.90570529,\n",
              "         0.97754135,  1.04937741,  1.12121348,  1.19304954,  1.2648856 ,\n",
              "         1.33672166,  1.40855773,  1.48039379,  1.55222985,  1.62406592,\n",
              "         1.69590198,  1.76773804,  1.83957411,  1.91141017,  1.98324623,\n",
              "         2.05508229,  2.12691836,  2.19875442,  2.27059048,  2.34242655,\n",
              "         2.41426261,  2.48609867,  2.55793474,  2.6297708 ,  2.70160686,\n",
              "         2.77344292,  2.84527899,  2.91711505,  2.98895111,  3.06078718,\n",
              "         3.13262324,  3.2044593 ,  3.27629537,  3.34813143,  3.41996749,\n",
              "         3.49180356,  3.56363962,  3.63547568,  3.70731174,  3.77914781,\n",
              "         3.85098387,  3.92281993,  3.994656  ,  4.06649206,  4.13832812]),\n",
              " <a list of 59 Patch objects>)"
            ]
          },
          "metadata": {},
          "execution_count": 151
        },
        {
          "output_type": "display_data",
          "data": {
            "text/plain": [
              "<Figure size 432x288 with 1 Axes>"
            ],
            "image/png": "[encoded data removed]"
          },
          "metadata": {
            "needs_background": "light"
          }
        }
      ]
    },
    {
      "cell_type": "code",
      "source": [
        "plt.hist(eigs_X[1:],bins=edges_X[1:],label='Empirical eigenvalues of $1/mXX^T$')"
      ],
      "metadata": {
        "colab": {
          "base_uri": "https://localhost:8080/",
          "height": 607
        },
        "id": "Y1VCXwASFX1Y",
        "outputId": "97fcb50f-7604-4d76-e76f-5fd23cd628c7"
      },
      "execution_count": 156,
      "outputs": [
        {
          "output_type": "execute_result",
          "data": {
            "text/plain": [
              "(array([132.,  84.,  58.,  46.,  40.,  38.,  30.,  31.,  28.,  26.,  25.,\n",
              "         22.,  23.,  19.,  21.,  19.,  17.,  17.,  17.,  16.,  15.,  16.,\n",
              "         13.,  14.,  14.,  11.,  13.,  12.,  11.,  11.,  10.,  11.,   9.,\n",
              "          9.,   9.,  11.,   7.,   7.,   8.,   7.,   7.,   9.,   6.,   6.,\n",
              "          5.,   5.,   7.,   3.,   5.,   3.,   4.,   4.,   3.,   3.,   2.,\n",
              "          0.,   0.,   0.]),\n",
              " array([-0.02816353,  0.04367253,  0.11550859,  0.18734466,  0.25918072,\n",
              "         0.33101678,  0.40285284,  0.47468891,  0.54652497,  0.61836103,\n",
              "         0.6901971 ,  0.76203316,  0.83386922,  0.90570529,  0.97754135,\n",
              "         1.04937741,  1.12121348,  1.19304954,  1.2648856 ,  1.33672166,\n",
              "         1.40855773,  1.48039379,  1.55222985,  1.62406592,  1.69590198,\n",
              "         1.76773804,  1.83957411,  1.91141017,  1.98324623,  2.05508229,\n",
              "         2.12691836,  2.19875442,  2.27059048,  2.34242655,  2.41426261,\n",
              "         2.48609867,  2.55793474,  2.6297708 ,  2.70160686,  2.77344292,\n",
              "         2.84527899,  2.91711505,  2.98895111,  3.06078718,  3.13262324,\n",
              "         3.2044593 ,  3.27629537,  3.34813143,  3.41996749,  3.49180356,\n",
              "         3.56363962,  3.63547568,  3.70731174,  3.77914781,  3.85098387,\n",
              "         3.92281993,  3.994656  ,  4.06649206,  4.13832812]),\n",
              " <a list of 58 Patch objects>)"
            ]
          },
          "metadata": {},
          "execution_count": 156
        },
        {
          "output_type": "display_data",
          "data": {
            "text/plain": [
              "<Figure size 432x288 with 1 Axes>"
            ],
            "image/png": "[encoded data removed]"
          },
          "metadata": {
            "needs_background": "light"
          }
        }
      ]
    },
    {
      "cell_type": "code",
      "source": [
        "plt.hist(eigs_Y,bins=edges_Y,label='Empirical eigenvalues of $1/mYY^T$')"
      ],
      "metadata": {
        "colab": {
          "base_uri": "https://localhost:8080/",
          "height": 607
        },
        "outputId": "0ce3c1e8-7030-4596-fffc-8248134e44b6",
        "id": "2vDYETGI6bWY"
      },
      "execution_count": 158,
      "outputs": [
        {
          "output_type": "execute_result",
          "data": {
            "text/plain": [
              "(array([366., 176., 119.,  91.,  73.,  55.,  44.,  34.,  23.,  14.,   3.,\n",
              "          1.,   0.,   0.,   0.,   0.,   0.,   0.,   0.,   0.,   0.,   0.,\n",
              "          0.,   0.,   0.,   0.,   0.,   0.,   0.,   0.,   0.,   0.,   0.,\n",
              "          0.,   0.,   0.,   0.,   0.,   0.,   0.,   0.,   0.,   0.,   0.,\n",
              "          0.,   0.,   0.,   0.,   0.,   0.,   0.,   0.,   0.,   0.,   0.,\n",
              "          0.,   0.,   0.,   1.]),\n",
              " array([-0.09999952,  0.35124398,  0.80248748,  1.25373098,  1.70497448,\n",
              "         2.15621798,  2.60746148,  3.05870498,  3.50994848,  3.96119199,\n",
              "         4.41243549,  4.86367899,  5.31492249,  5.76616599,  6.21740949,\n",
              "         6.66865299,  7.11989649,  7.57113999,  8.02238349,  8.47362699,\n",
              "         8.92487049,  9.37611399,  9.82735749, 10.27860099, 10.72984449,\n",
              "        11.18108799, 11.63233149, 12.08357499, 12.53481849, 12.98606199,\n",
              "        13.43730549, 13.888549  , 14.3397925 , 14.791036  , 15.2422795 ,\n",
              "        15.693523  , 16.1447665 , 16.59601   , 17.0472535 , 17.498497  ,\n",
              "        17.9497405 , 18.400984  , 18.8522275 , 19.303471  , 19.7547145 ,\n",
              "        20.205958  , 20.6572015 , 21.108445  , 21.5596885 , 22.010932  ,\n",
              "        22.4621755 , 22.913419  , 23.3646625 , 23.81590601, 24.26714951,\n",
              "        24.71839301, 25.16963651, 25.62088001, 26.07212351, 26.52336701]),\n",
              " <a list of 59 Patch objects>)"
            ]
          },
          "metadata": {},
          "execution_count": 158
        },
        {
          "output_type": "display_data",
          "data": {
            "text/plain": [
              "<Figure size 432x288 with 1 Axes>"
            ],
            "image/png": "[encoded data removed]"
          },
          "metadata": {
            "needs_background": "light"
          }
        }
      ]
    },
    {
      "cell_type": "code",
      "source": [
        "plt.hist(eigs_Y[1:],bins=edges_Y[1:],label='Empirical eigenvalues of $1/mYY^T$')"
      ],
      "metadata": {
        "colab": {
          "base_uri": "https://localhost:8080/",
          "height": 735
        },
        "id": "WjYFYHJDFil7",
        "outputId": "f84dc4d7-2635-4e57-e7ce-3ae80d9e10f3"
      },
      "execution_count": 127,
      "outputs": [
        {
          "output_type": "stream",
          "name": "stderr",
          "text": [
            "/usr/local/lib/python3.7/dist-packages/matplotlib/transforms.py:789: ComplexWarning: Casting complex values to real discards the imaginary part\n",
            "  points = np.array(args, dtype=float).reshape(2, 2)\n",
            "/usr/local/lib/python3.7/dist-packages/matplotlib/transforms.py:1969: ComplexWarning: Casting complex values to real discards the imaginary part\n",
            "  x, y = float(x), float(y)\n"
          ]
        },
        {
          "output_type": "execute_result",
          "data": {
            "text/plain": [
              "(array([ 0.,  0.,  0., 18., 55., 63., 64., 64., 61., 60., 57., 54., 51.,\n",
              "        49., 46., 42., 41., 37., 37., 31., 30., 28., 26., 22., 19., 17.,\n",
              "        14.,  9.,  4.,  0.,  0.,  0.,  0.,  0.,  0.,  0.,  0.,  0.,  0.,\n",
              "         0.,  0.,  0.,  0.,  0.,  0.,  0.,  0.,  0.,  0.,  0.,  0.,  0.,\n",
              "         0.,  0.,  0.,  0.,  0.,  0.]),\n",
              " array([ 0.26730129+0.j,  0.63460258+0.j,  1.00190386+0.j,  1.36920515+0.j,\n",
              "         1.73650644+0.j,  2.10380773+0.j,  2.47110901+0.j,  2.8384103 +0.j,\n",
              "         3.20571159+0.j,  3.57301288+0.j,  3.94031416+0.j,  4.30761545+0.j,\n",
              "         4.67491674+0.j,  5.04221803+0.j,  5.40951932+0.j,  5.7768206 +0.j,\n",
              "         6.14412189+0.j,  6.51142318+0.j,  6.87872447+0.j,  7.24602575+0.j,\n",
              "         7.61332704+0.j,  7.98062833+0.j,  8.34792962+0.j,  8.71523091+0.j,\n",
              "         9.08253219+0.j,  9.44983348+0.j,  9.81713477+0.j, 10.18443606+0.j,\n",
              "        10.55173734+0.j, 10.91903863+0.j, 11.28633992+0.j, 11.65364121+0.j,\n",
              "        12.02094249+0.j, 12.38824378+0.j, 12.75554507+0.j, 13.12284636+0.j,\n",
              "        13.49014765+0.j, 13.85744893+0.j, 14.22475022+0.j, 14.59205151+0.j,\n",
              "        14.9593528 +0.j, 15.32665408+0.j, 15.69395537+0.j, 16.06125666+0.j,\n",
              "        16.42855795+0.j, 16.79585923+0.j, 17.16316052+0.j, 17.53046181+0.j,\n",
              "        17.8977631 +0.j, 18.26506439+0.j, 18.63236567+0.j, 18.99966696+0.j,\n",
              "        19.36696825+0.j, 19.73426954+0.j, 20.10157082+0.j, 20.46887211+0.j,\n",
              "        20.8361734 +0.j, 21.20347469+0.j, 21.57077598+0.j]),\n",
              " <a list of 58 Patch objects>)"
            ]
          },
          "metadata": {},
          "execution_count": 127
        },
        {
          "output_type": "display_data",
          "data": {
            "text/plain": [
              "<Figure size 432x288 with 1 Axes>"
            ],
            "image/png": "[encoded data removed]"
          },
          "metadata": {
            "needs_background": "light"
          }
        }
      ]
    }
  ]
}